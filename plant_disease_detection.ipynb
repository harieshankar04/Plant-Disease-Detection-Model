{
  "nbformat": 4,
  "nbformat_minor": 0,
  "metadata": {
    "colab": {
      "provenance": []
    },
    "kernelspec": {
      "name": "python3",
      "display_name": "Python 3"
    },
    "language_info": {
      "name": "python"
    }
  },
  "cells": [
    {
      "cell_type": "code",
      "execution_count": null,
      "metadata": {
        "id": "eNCPemYB7L9i"
      },
      "outputs": [],
      "source": [
        "import tensorflow as tf\n",
        "import tensorflow_datasets as tfds\n",
        "import matplotlib.pyplot as plt\n",
        "import numpy as np\n",
        "\n",
        "## 1. Load the Dataset (Using PlantVillage as a substitute)\n",
        "print(\"Loading PlantVillage dataset...\")\n",
        "(train_ds, val_ds, test_ds), ds_info = tfds.load(\n",
        "    'plant_village',\n",
        "    split=['train[:80%]', 'train[80%:90%]', 'train[90%:]'],\n",
        "    with_info=True,\n",
        "    as_supervised=True,\n",
        ")\n",
        "\n",
        "NUM_CLASSES = ds_info.features['label'].num_classes\n",
        "IMAGE_SIZE = (224, 224)\n",
        "BATCH_SIZE = 32"
      ]
    },
    {
      "cell_type": "code",
      "source": [
        "## 2. Preprocessing Function\n",
        "# This resizes images and scales pixel values to what MobileNetV2 expects.\n",
        "def preprocess_image(image, label):\n",
        "    image = tf.image.resize(image, IMAGE_SIZE)\n",
        "    image = tf.keras.applications.mobilenet_v2.preprocess_input(image)\n",
        "    return image, label\n",
        "\n",
        "train_ds = train_ds.map(preprocess_image).cache().shuffle(1000).batch(BATCH_SIZE).prefetch(tf.data.AUTOTUNE)\n",
        "val_ds = val_ds.map(preprocess_image).batch(BATCH_SIZE).cache().prefetch(tf.data.AUTOTUNE)\n",
        "test_ds = test_ds.map(preprocess_image).batch(BATCH_SIZE).cache().prefetch(tf.data.AUTOTUNE)\n",
        "\n",
        "print(f\"Dataset loaded with {NUM_CLASSES} classes.\")"
      ],
      "metadata": {
        "id": "DMX9WwGv7S-h"
      },
      "execution_count": null,
      "outputs": []
    },
    {
      "cell_type": "code",
      "source": [
        "## 3. Build the Model (Simulating MobileNetV2)\n",
        "print(\"Building model with MobileNetV2 base...\")\n",
        "# Load MobileNetV2 pre-trained on ImageNet, without its top classification layer\n",
        "base_model = tf.keras.applications.MobileNetV2(\n",
        "    input_shape=(224, 224, 3),\n",
        "    include_top=False,\n",
        "    weights='imagenet'\n",
        ")\n",
        "\n",
        "# Freeze the base model layers to leverage pre-trained features\n",
        "base_model.trainable = False\n",
        "\n",
        "# Create a new model on top\n",
        "inputs = tf.keras.Input(shape=(224, 224, 3))\n",
        "x = base_model(inputs, training=False)\n",
        "x = tf.keras.layers.GlobalAveragePooling2D()(x)\n",
        "x = tf.keras.layers.Dropout(0.2)(x)\n",
        "outputs = tf.keras.layers.Dense(NUM_CLASSES, activation='softmax')(x)\n",
        "model = tf.keras.Model(inputs, outputs)\n",
        "\n",
        "model.summary()"
      ],
      "metadata": {
        "id": "Llk7zzvz7Whm"
      },
      "execution_count": null,
      "outputs": []
    },
    {
      "cell_type": "code",
      "source": [
        "\n",
        "## 4. Compile and Train the Model\n",
        "# We use Adam optimizer and SparseCategoricalCrossentropy for multi-class classification\n",
        "model.compile(\n",
        "    optimizer=tf.keras.optimizers.Adam(learning_rate=0.001),\n",
        "    loss='sparse_categorical_crossentropy',\n",
        "    metrics=['accuracy']\n",
        ")\n",
        "\n",
        "print(\"\\nTraining the model...\")\n",
        "history = model.fit(\n",
        "    train_ds,\n",
        "    epochs=5, # Using 5 for demonstration; more epochs needed for higher accuracy\n",
        "    validation_data=val_ds\n",
        ")"
      ],
      "metadata": {
        "id": "J4aUh95j7aNk"
      },
      "execution_count": null,
      "outputs": []
    },
    {
      "cell_type": "code",
      "source": [
        "\n",
        "## 5. Evaluate the Model\n",
        "print(\"\\nEvaluating on the test set...\")\n",
        "loss, accuracy = model.evaluate(test_ds)\n",
        "print(f\"Test Accuracy: {accuracy * 100:.2f}%\")\n",
        "\n",
        "# Save the trained model for the next step\n",
        "model.save('crop_disease_classifier.h5')\n",
        "print(\"\\nModel saved as crop_disease_classifier.h5\")"
      ],
      "metadata": {
        "id": "9BD4Ir2S-etl"
      },
      "execution_count": null,
      "outputs": []
    }
  ]
}